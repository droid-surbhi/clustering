{
 "cells": [
  {
   "cell_type": "markdown",
   "metadata": {},
   "source": [
    "# Incremental agglomerative clustering\n",
    "Incremental agglomerative clustering, given old clusters, maps new data to old clusters and creates new clusters for unmapped records. It is a bottom-up approach, meaning it assumes all the data points belong to separate clusters initially. Then it recursively merges the cluster pairs which have minimum distance between them. This kind of approach is useful when we are dealing with temporal text data and need to cluster it incrementally in time. For example, news, social media posts, chats etc. which keep on increasing with time and there is no endpoint to wait for before doing the analysis. This implementation is based on the following paper:\n",
    "\n",
    "* X. Dai, Q. Chen, X. Wang and J. Xu, \"Online topic detection and tracking of financial news based on hierarchical clustering,\" 2010 International Conference on Machine Learning and Cybernetics, 2010, pp. 3341-3346, doi: 10.1109/ICMLC.2010.5580677.\n",
    "\n",
    "## Steps\n",
    "•\tConsiders set of records, does tf-idf vectorization -> agglomerative hierarchical clustering (sklearn) -> for next interval, update tf-idf vectorizer-> use clusters identified in just previous interval as candidate clusters, perform agglomerative hierarchical clustering on new data -> map/merge new clusters with candidate clusters.\n",
    "\n",
    "Steps to identify topics for new set of stories, given some candidate topics as previous set of stories and corresponding topic: \n",
    "\n",
    "1. Get the set of candidate clusters CTS from previous set.\n",
    "2. Get the set of new clusters in new set using agglomerative clustering (sklearn).\n",
    "3. Get a cluster Tc from the new set NTC, and calculate the similarity between Tc and each single cluster ct within the old set CTS. If the maximum similarity, which is the similarity between ct and Tc, is not smaller than the threshold θ, we consider that ct is related to Tc.\n",
    "4. Combine the cluster Tc into the previous cluster ct, and rebuild the cluster model.\n",
    "5. Delete Tc from NTC, repeat from step 3.\n",
    "\n",
    "## Example\n",
    "This notebook shows how to use this clustering method by running an example with kaggle dataset (https://www.kaggle.com/rmisra/news-category-dataset). This is a news category dataset with date information along with headline and short description. We have shown clustering over headlines only, dataset being sorted according to date."
   ]
  },
  {
   "cell_type": "code",
   "execution_count": 2,
   "metadata": {},
   "outputs": [
    {
     "name": "stdout",
     "output_type": "stream",
     "text": [
      "[nltk_data] Downloading package stopwords to\n",
      "[nltk_data]     C:\\Users\\Asus\\AppData\\Roaming\\nltk_data...\n",
      "[nltk_data]   Package stopwords is already up-to-date!\n",
      "[nltk_data] Downloading package wordnet to\n",
      "[nltk_data]     C:\\Users\\Asus\\AppData\\Roaming\\nltk_data...\n",
      "[nltk_data]   Package wordnet is already up-to-date!\n"
     ]
    }
   ],
   "source": [
    "import pandas as pd\n",
    "from clustering.agglomerative_clusters import find_clusters\n",
    "import warnings\n",
    "warnings.filterwarnings('ignore')\n",
    "pd.options.display.max_colwidth=-1"
   ]
  },
  {
   "cell_type": "code",
   "execution_count": 11,
   "metadata": {},
   "outputs": [],
   "source": [
    "df = pd.read_json(\".\\\\sample_data\\\\example_news_data.json\", lines=True)\n",
    "df.sort_values(by='date', inplace=True)         # sort the data by date\n",
    "df['content'] = df['headline']       #  method requires the text "
   ]
  },
  {
   "cell_type": "code",
   "execution_count": 3,
   "metadata": {},
   "outputs": [
    {
     "name": "stdout",
     "output_type": "stream",
     "text": [
      "threshold: 0.6, nfeatures: 400\n"
     ]
    },
    {
     "data": {
      "text/plain": [
       "510"
      ]
     },
     "execution_count": 3,
     "metadata": {},
     "output_type": "execute_result"
    }
   ],
   "source": [
    "# first chunk\n",
    "df_p1 = df[:5000]\n",
    "out = find_clusters(df_p1, thresh1=0.6, nfeatures=400)   # function call\n",
    "len(out['class_prd'].unique())"
   ]
  },
  {
   "cell_type": "code",
   "execution_count": 4,
   "metadata": {},
   "outputs": [
    {
     "data": {
      "text/html": [
       "<div>\n",
       "<style scoped>\n",
       "    .dataframe tbody tr th:only-of-type {\n",
       "        vertical-align: middle;\n",
       "    }\n",
       "\n",
       "    .dataframe tbody tr th {\n",
       "        vertical-align: top;\n",
       "    }\n",
       "\n",
       "    .dataframe thead th {\n",
       "        text-align: right;\n",
       "    }\n",
       "</style>\n",
       "<table border=\"1\" class=\"dataframe\">\n",
       "  <thead>\n",
       "    <tr style=\"text-align: right;\">\n",
       "      <th></th>\n",
       "      <th>headline</th>\n",
       "    </tr>\n",
       "  </thead>\n",
       "  <tbody>\n",
       "    <tr>\n",
       "      <th>200512</th>\n",
       "      <td>Staying Bedbug-Free in the Direct Care Industry</td>\n",
       "    </tr>\n",
       "    <tr>\n",
       "      <th>200034</th>\n",
       "      <td>A Guide To Interntional Fabric Care Symbols (PHOTOS)</td>\n",
       "    </tr>\n",
       "    <tr>\n",
       "      <th>199474</th>\n",
       "      <td>Afghan Midwives Address Need For More Skilled Maternal Care</td>\n",
       "    </tr>\n",
       "    <tr>\n",
       "      <th>199089</th>\n",
       "      <td>Post-Natal Care In France: How I Got My Vagina Back In Shape</td>\n",
       "    </tr>\n",
       "    <tr>\n",
       "      <th>198415</th>\n",
       "      <td>The Real Cost of Delaying Your Health Care</td>\n",
       "    </tr>\n",
       "    <tr>\n",
       "      <th>197832</th>\n",
       "      <td>A Care Revolution... in America?</td>\n",
       "    </tr>\n",
       "    <tr>\n",
       "      <th>197654</th>\n",
       "      <td>Health Care Costs And How You Could Be Overspending</td>\n",
       "    </tr>\n",
       "    <tr>\n",
       "      <th>197603</th>\n",
       "      <td>Pajamas, Like Brown Bag Lunches, Mean Someone Cares</td>\n",
       "    </tr>\n",
       "    <tr>\n",
       "      <th>197092</th>\n",
       "      <td>Caring for Your Pet in a Tough Economy</td>\n",
       "    </tr>\n",
       "    <tr>\n",
       "      <th>197087</th>\n",
       "      <td>Pesticides and Personal Care Products Pollute Our Environment</td>\n",
       "    </tr>\n",
       "    <tr>\n",
       "      <th>196537</th>\n",
       "      <td>Health Care Reform Could Get You A Raise, But There's A Catch</td>\n",
       "    </tr>\n",
       "    <tr>\n",
       "      <th>196355</th>\n",
       "      <td>Scarce ICU Beds May Mean Doctor Switches From Lifesaving Care To End-Of-Life Care: Study</td>\n",
       "    </tr>\n",
       "    <tr>\n",
       "      <th>195910</th>\n",
       "      <td>Long-Term Health Care: Higher Costs, Less Coverage</td>\n",
       "    </tr>\n",
       "  </tbody>\n",
       "</table>\n",
       "</div>"
      ],
      "text/plain": [
       "                                                                                        headline\n",
       "200512  Staying Bedbug-Free in the Direct Care Industry                                         \n",
       "200034  A Guide To Interntional Fabric Care Symbols (PHOTOS)                                    \n",
       "199474  Afghan Midwives Address Need For More Skilled Maternal Care                             \n",
       "199089  Post-Natal Care In France: How I Got My Vagina Back In Shape                            \n",
       "198415  The Real Cost of Delaying Your Health Care                                              \n",
       "197832  A Care Revolution... in America?                                                        \n",
       "197654  Health Care Costs And How You Could Be Overspending                                     \n",
       "197603  Pajamas, Like Brown Bag Lunches, Mean Someone Cares                                     \n",
       "197092  Caring for Your Pet in a Tough Economy                                                  \n",
       "197087  Pesticides and Personal Care Products Pollute Our Environment                           \n",
       "196537  Health Care Reform Could Get You A Raise, But There's A Catch                           \n",
       "196355  Scarce ICU Beds May Mean Doctor Switches From Lifesaving Care To End-Of-Life Care: Study\n",
       "195910  Long-Term Health Care: Higher Costs, Less Coverage                                      "
      ]
     },
     "execution_count": 4,
     "metadata": {},
     "output_type": "execute_result"
    }
   ],
   "source": [
    "out.loc[out.class_prd==0, ['headline']]          # example cluster, it can be noticed that this cluster consists of headlines related \"care\"."
   ]
  },
  {
   "cell_type": "code",
   "execution_count": 5,
   "metadata": {},
   "outputs": [
    {
     "name": "stdout",
     "output_type": "stream",
     "text": [
      "threshold: 0.6, nfeatures: 400\n"
     ]
    }
   ],
   "source": [
    "# second chunk\n",
    "\n",
    "df_p2 = df[5000:10000]\n",
    "out2 = find_clusters(df_p2, thresh1=0.6, nfeatures=400, old_samples=out)"
   ]
  },
  {
   "cell_type": "code",
   "execution_count": 6,
   "metadata": {},
   "outputs": [
    {
     "data": {
      "text/plain": [
       "index\n",
       "5084    Health Care Reform Mandate, How Does It Work?                                     \n",
       "5409    Bethenny Frankel: Mother, SkinnyGirl Mogul, Skin Care Expert?                     \n",
       "5435    Why We Should Care About Children's Fashion                                       \n",
       "5493    Irina Shayk Thong Makes An Appearance At Jeffrey Fashion Cares (PHOTOS)           \n",
       "5564    What Health Care is Like: Seeking Supreme Analogies                               \n",
       "5584    Health Care Reform: What's At Stake If Obamacare Is Overturned?                   \n",
       "6034    How Active Should We Be in Our Own Medical Care?                                  \n",
       "6132    Choosing the TEDMED 20 Great Challenges of Health Care                            \n",
       "6425    Reinventing Health Care: The Design and Investment of the Millennia               \n",
       "7094    Losing a Loved One and Confronting the Heartlessness of Health Care Cost Control  \n",
       "7602    A New Mainstream Health Care?                                                     \n",
       "7812    Warren Buffett Cancer Treatment Shows Challenges In Health Care Cost-Cutting      \n",
       "8265    'Care In Your Heart': Homeless Health Care Costs Prompt Experiments On The Margins\n",
       "9004    Homeless Health Care: What Are We Doing Wrong?                                    \n",
       "9194    Yes, The Health-Care Mandate Is About Liberty                                     \n",
       "9955    Too Big to Care                                                                   \n",
       "Name: headline, dtype: object"
      ]
     },
     "execution_count": 6,
     "metadata": {},
     "output_type": "execute_result"
    }
   ],
   "source": [
    "out2[out2.class_prd==0]['headline']     # same cluster name in new chunk. We can observe that the headlines related to \"care\" have been grouped into same cluster as for previous chunk."
   ]
  },
  {
   "cell_type": "markdown",
   "metadata": {},
   "source": [
    "We can iterate over the whole data in small chunks in similar manner. Feel free to checkout other clusters and to test with your own data."
   ]
  }
 ],
 "metadata": {
  "interpreter": {
   "hash": "ae41d97583f14d59ca5803f3fe7c5027af9e27e6969556a178b2a13194b724ac"
  },
  "kernelspec": {
   "display_name": "Python 3.8.3 ('env': venv)",
   "language": "python",
   "name": "python3"
  },
  "language_info": {
   "codemirror_mode": {
    "name": "ipython",
    "version": 3
   },
   "file_extension": ".py",
   "mimetype": "text/x-python",
   "name": "python",
   "nbconvert_exporter": "python",
   "pygments_lexer": "ipython3",
   "version": "3.8.3"
  },
  "orig_nbformat": 4
 },
 "nbformat": 4,
 "nbformat_minor": 2
}
