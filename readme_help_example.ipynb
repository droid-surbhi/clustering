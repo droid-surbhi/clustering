{
 "cells": [
  {
   "cell_type": "markdown",
   "metadata": {},
   "source": [
    "# Incremental agglomerative clustering\n",
    "Incremental agglomerative clustering, given old clusters, maps new data to old clusters and creates new clusters for unmapped records. It is a bottom-up approach, meaning it assumes all the data points belong to separate clusters initially. Then it recursively merges the cluster pairs which have minimum distance between them. This kind of approach is useful when we are dealing with temporal text data and need to cluster it incrementally in time. For example, news, social media posts, chats etc. which keep on increasing with time and there is no endpoint to wait for before doing the analysis. This implementation is based on the following paper:\n",
    "\n",
    "* X. Dai, Q. Chen, X. Wang and J. Xu, \"Online topic detection and tracking of financial news based on hierarchical clustering,\" 2010 International Conference on Machine Learning and Cybernetics, 2010, pp. 3341-3346, doi: 10.1109/ICMLC.2010.5580677.\n",
    "\n",
    "## Steps\n",
    "•\tConsiders set of records, does tf-idf vectorization -> agglomerative hierarchical clustering (sklearn) -> for next interval, update tf-idf vectorizer-> use clusters identified in just previous interval as candidate clusters, perform agglomerative hierarchical clustering on new data -> map/merge new clusters with candidate clusters.\n",
    "\n",
    "Steps to identify topics for new set of stories, given some candidate topics as previous set of stories and corresponding topic: \n",
    "\n",
    "1. Get the set of candidate clusters CTS from previous set.\n",
    "2. Get the set of new clusters in new set using agglomerative clustering (sklearn).\n",
    "3. Get a cluster Tc from the new set NTC, and calculate the similarity between Tc and each single cluster ct within the old set CTS. If the maximum similarity, which is the similarity between ct and Tc, is not smaller than the threshold θ, we consider that ct is related to Tc.\n",
    "4. Combine the cluster Tc into the previous cluster ct, and rebuild the cluster model.\n",
    "5. Delete Tc from NTC, repeat from step 3.\n",
    "\n",
    "## Example\n",
    "This notebook shows how to use this clustering method by running an example with kaggle dataset (https://www.kaggle.com/rmisra/news-category-dataset). This is a news category dataset with date information along with headline and short description. We have shown clustering over headlines only, dataset being sorted according to date."
   ]
  },
  {
   "cell_type": "code",
   "execution_count": 1,
   "metadata": {},
   "outputs": [
    {
     "name": "stdout",
     "output_type": "stream",
     "text": [
      "[nltk_data] Downloading package stopwords to\n",
      "[nltk_data]     C:\\Users\\Asus\\AppData\\Roaming\\nltk_data...\n",
      "[nltk_data]   Package stopwords is already up-to-date!\n",
      "[nltk_data] Downloading package wordnet to\n",
      "[nltk_data]     C:\\Users\\Asus\\AppData\\Roaming\\nltk_data...\n",
      "[nltk_data]   Package wordnet is already up-to-date!\n"
     ]
    }
   ],
   "source": [
    "import pandas as pd\n",
    "from clustering.agglomerative_clusters import find_clusters\n",
    "import warnings\n",
    "warnings.filterwarnings('ignore')\n",
    "pd.options.display.max_colwidth=-1"
   ]
  },
  {
   "cell_type": "code",
   "execution_count": 2,
   "metadata": {},
   "outputs": [],
   "source": [
    "df = pd.read_json(\".\\\\sample_data\\\\example_news_data.json\", lines=True)\n",
    "df.sort_values(by='date', inplace=True)         # sort the data by date\n",
    "df['content'] = df['headline']       #  method requires the text "
   ]
  },
  {
   "cell_type": "code",
   "execution_count": 3,
   "metadata": {},
   "outputs": [
    {
     "name": "stdout",
     "output_type": "stream",
     "text": [
      "threshold: 0.6, nfeatures: 400\n"
     ]
    },
    {
     "data": {
      "text/plain": [
       "836"
      ]
     },
     "execution_count": 3,
     "metadata": {},
     "output_type": "execute_result"
    }
   ],
   "source": [
    "# first chunk\n",
    "df_p1 = df[:5000]\n",
    "out = find_clusters(df_p1, thresh1=0.6, nfeatures=400)   # function call\n",
    "len(out['class_prd'].unique())"
   ]
  },
  {
   "cell_type": "code",
   "execution_count": 4,
   "metadata": {},
   "outputs": [
    {
     "data": {
      "text/html": [
       "<div>\n",
       "<style scoped>\n",
       "    .dataframe tbody tr th:only-of-type {\n",
       "        vertical-align: middle;\n",
       "    }\n",
       "\n",
       "    .dataframe tbody tr th {\n",
       "        vertical-align: top;\n",
       "    }\n",
       "\n",
       "    .dataframe thead th {\n",
       "        text-align: right;\n",
       "    }\n",
       "</style>\n",
       "<table border=\"1\" class=\"dataframe\">\n",
       "  <thead>\n",
       "    <tr style=\"text-align: right;\">\n",
       "      <th></th>\n",
       "      <th>headline</th>\n",
       "    </tr>\n",
       "  </thead>\n",
       "  <tbody>\n",
       "    <tr>\n",
       "      <th>49626</th>\n",
       "      <td>Syrian Boys Cry For Brother Killed In Aleppo Bombing</td>\n",
       "    </tr>\n",
       "    <tr>\n",
       "      <th>49509</th>\n",
       "      <td>Cousin Of NBA Star Dwyane Wade Killed In Chicago Shooting</td>\n",
       "    </tr>\n",
       "    <tr>\n",
       "      <th>49395</th>\n",
       "      <td>Lightning Bolt Kills More Than 300 Reindeer In Norway</td>\n",
       "    </tr>\n",
       "    <tr>\n",
       "      <th>48904</th>\n",
       "      <td>Philippines President Declares 'State Of Lawlessness' After Bombing Kills 14</td>\n",
       "    </tr>\n",
       "    <tr>\n",
       "      <th>48273</th>\n",
       "      <td>Tanzania Earthquake Kills Multiple People</td>\n",
       "    </tr>\n",
       "    <tr>\n",
       "      <th>47941</th>\n",
       "      <td>The Gazebo Where Tamir Rice Was Killed To Be Displayed At Museum</td>\n",
       "    </tr>\n",
       "    <tr>\n",
       "      <th>47732</th>\n",
       "      <td>Sleep Deprivation Is Killing You And Your Career</td>\n",
       "    </tr>\n",
       "    <tr>\n",
       "      <th>47654</th>\n",
       "      <td>Wildlife Services' -- AKA Murder, Inc.'s -- Unregulated Killing Fields: The Body Count of this Killing Agency Is Sickeningly Reprehensible</td>\n",
       "    </tr>\n",
       "    <tr>\n",
       "      <th>47028</th>\n",
       "      <td>Miami Marlins Pitcher Jose Fernandez Killed In Boating Accident</td>\n",
       "    </tr>\n",
       "    <tr>\n",
       "      <th>45972</th>\n",
       "      <td>U.S. Researcher Killed By Rock-Throwing Protesters In Ethiopia</td>\n",
       "    </tr>\n",
       "    <tr>\n",
       "      <th>45851</th>\n",
       "      <td>Saudi Airstrikes Kill Scores Of Mourners At Funeral Service In Yemen</td>\n",
       "    </tr>\n",
       "    <tr>\n",
       "      <th>45429</th>\n",
       "      <td>Relentless Bombing Kills 150 More In Aleppo This Week</td>\n",
       "    </tr>\n",
       "    <tr>\n",
       "      <th>45220</th>\n",
       "      <td>Los Angeles Party Shooting Kills 3, Wounds A Dozen</td>\n",
       "    </tr>\n",
       "    <tr>\n",
       "      <th>45215</th>\n",
       "      <td>Suicide Bombing, Shootouts Kill Dozens In Iraq</td>\n",
       "    </tr>\n",
       "    <tr>\n",
       "      <th>45129</th>\n",
       "      <td>4 Killed After Truck Flies Off San Diego Bridge Onto Festival 60 Feet Below</td>\n",
       "    </tr>\n",
       "  </tbody>\n",
       "</table>\n",
       "</div>"
      ],
      "text/plain": [
       "                                                                                                                                         headline\n",
       "49626  Syrian Boys Cry For Brother Killed In Aleppo Bombing                                                                                      \n",
       "49509  Cousin Of NBA Star Dwyane Wade Killed In Chicago Shooting                                                                                 \n",
       "49395  Lightning Bolt Kills More Than 300 Reindeer In Norway                                                                                     \n",
       "48904  Philippines President Declares 'State Of Lawlessness' After Bombing Kills 14                                                              \n",
       "48273  Tanzania Earthquake Kills Multiple People                                                                                                 \n",
       "47941  The Gazebo Where Tamir Rice Was Killed To Be Displayed At Museum                                                                          \n",
       "47732  Sleep Deprivation Is Killing You And Your Career                                                                                          \n",
       "47654  Wildlife Services' -- AKA Murder, Inc.'s -- Unregulated Killing Fields: The Body Count of this Killing Agency Is Sickeningly Reprehensible\n",
       "47028  Miami Marlins Pitcher Jose Fernandez Killed In Boating Accident                                                                           \n",
       "45972  U.S. Researcher Killed By Rock-Throwing Protesters In Ethiopia                                                                            \n",
       "45851  Saudi Airstrikes Kill Scores Of Mourners At Funeral Service In Yemen                                                                      \n",
       "45429  Relentless Bombing Kills 150 More In Aleppo This Week                                                                                     \n",
       "45220  Los Angeles Party Shooting Kills 3, Wounds A Dozen                                                                                        \n",
       "45215  Suicide Bombing, Shootouts Kill Dozens In Iraq                                                                                            \n",
       "45129  4 Killed After Truck Flies Off San Diego Bridge Onto Festival 60 Feet Below                                                               "
      ]
     },
     "execution_count": 4,
     "metadata": {},
     "output_type": "execute_result"
    }
   ],
   "source": [
    "out.loc[out.class_prd==237, ['headline']]          # example cluster, it can be noticed that this cluster consists of headlines related \"Killing\"."
   ]
  },
  {
   "cell_type": "code",
   "execution_count": 5,
   "metadata": {},
   "outputs": [
    {
     "name": "stdout",
     "output_type": "stream",
     "text": [
      "threshold: 0.6, nfeatures: 400\n"
     ]
    }
   ],
   "source": [
    "# second chunk\n",
    "\n",
    "df_p2 = df[5000:10000]\n",
    "out2 = find_clusters(df_p2, thresh1=0.6, nfeatures=400, old_samples=out)"
   ]
  },
  {
   "cell_type": "code",
   "execution_count": 6,
   "metadata": {},
   "outputs": [
    {
     "data": {
      "text/plain": [
       "index\n",
       "4999    Laurie Hernandez Killed It During Her 'DWTS' Salsa Performance, Obviously                        \n",
       "5691    4 Killed On Ride At Australia's Biggest Theme Park                                               \n",
       "6060    Saudi-Led Raid Kills At Least 60 At Security Site And Prison In Yemen                            \n",
       "6559    Tracy Morgan Forgives The Truck Driver Who Almost Killed Him                                     \n",
       "6702    Suicide Bombers In Ambulance Kill At Least 21 People In Iraq                                     \n",
       "7251    Facebook Temporarily Killed Off A Lot Of Its Users                                               \n",
       "7268    Taliban Suicide Bomber Kills 4 At NATO Base In Bagram, Afghanistan                               \n",
       "7791    Fuel Tanker Explosion In Mozambique Kills At Least 73, Government Says                           \n",
       "7996    India Train Derailment Kills At Least 146 People, Rescuers End Search                            \n",
       "8692    Massive Wildfire Engulfs Tennessee Resort Towns, Kills 3                                         \n",
       "8699    Highly Contagious Bird Flu Outbreak In Japan Prompts Officials To Kill 300,000 Chickens And Ducks\n",
       "8872    That Time Shonda Rhimes Tricked Someone Into Thinking They Were Killed Off On 'Scandal'          \n",
       "9078    Being Normal Almost Killed Me                                                                    \n",
       "9457    Indonesia Earthquake Kills Nearly 100 People And Levels Buildings                                \n",
       "9608    CAUGHT ON VIDEO: World's Grinch-iest Vandal Tries To Kill Frosty The Snowman                     \n",
       "9710    Suicide Bomber Kills At Least 40 Yemeni Troops In Aden                                           \n",
       "9776    Blast Inside Cairo's Coptic Cathedral Kills At Least 25 People                                   \n",
       "Name: headline, dtype: object"
      ]
     },
     "execution_count": 6,
     "metadata": {},
     "output_type": "execute_result"
    }
   ],
   "source": [
    "out2[out2.class_prd==237]['headline']     # same cluster name in new chunk. We can observe that the headlines related to \"Killing\" have been grouped into same cluster as for previous chunk."
   ]
  },
  {
   "cell_type": "markdown",
   "metadata": {},
   "source": [
    "We can iterate over the whole data in small chunks in similar manner. Feel free to checkout other clusters and to test with your own data."
   ]
  },
  {
   "cell_type": "markdown",
   "metadata": {},
   "source": [
    "# 2 Compare Clusters\n",
    "## map and compare clusters to ground truth clusters using f-measure as the metric\n",
    "Lets assume ground truth has M number of clusters and clustering result has N number of clusters.\n",
    "\n",
    "For each m<sup>th</sup> cluster in ground truth, calculate f-measure with every cluster in clustering result. This f-measure indicates how good the cluster C<sub>n</sub> describes the cluster C<sub>m</sub>.\n",
    "\n",
    "I<sub>mn</sub> → Intersection of elements in m<sup>th</sup> cluster in ground truth and n<sup>th</sup> cluster in predicted clusters.\n",
    "\n",
    "|C<sub>m</sub>| = number of elements in m<sup>th</sup> cluster\n",
    "\n",
    "precision p = I<sub>mn</sub>/|C<sub>n</sub>|,            recall r = I<sub>mn</sub>/|C<sub>m</sub>|\n",
    "\n",
    "F-measure of mth and nth cluster fmn = 2.r.p/(r+p) = 2.I<sub>mn</sub>/(|C<sub>m</sub>|+|C<sub>n</sub>|)\n",
    "\n",
    "2. Create a matrix with cluster labels in ground truth  as row index, cluster labels in results as column index and f-measures of clusters as values.\n",
    "\n",
    "3. Identify the cluster pair with maximum f-measure, assume that these clusters are mapped and store these mappings and corresponding f-measures, remove the row and column corresponding to these clusters. Repeat this until we get empty matrix.\n",
    "\n",
    "4. Overall f-measure is the average of f-measure corresponding to each cluster map identified in previous step. Since while calculating f-measure for each cluster pair, we are dividing Imn by sum of number of elements in both clusters, hence further weights were not added while calculating the mean f-measure.\n",
    "\n",
    "Relevant References:\n",
    "* Wagner, Silke, and Dorothea Wagner. Comparing clusterings: an overview. Karlsruhe: Universität Karlsruhe, Fakultät für Informatik, 2007.\n",
    "\n"
   ]
  },
  {
   "cell_type": "markdown",
   "metadata": {},
   "source": [
    "## Parameters:\n",
    "* `df`: *pd.DataFrame*, help=input with ground truth clusters  and predicted clusters\n",
    "expected columns: 'class_gt' with numeric labels for ground truth clusters or 'text_category' with text\n",
    "                  'class_prd' with numeric labels for predicted clusters or 'predicted_topic' with text\n",
    "\n",
    "* `gt_column`: str, help=column in which ground truth text clusters are present, default=\"text_category\"\n",
    "                    if clusters are numeric, skip this parameter but make sure columns with numeric clusters are named 'class_gt' or 'class_prd'\n",
    "\n",
    "## Returns:\n",
    "    -------\n",
    "* `df`: *pd.DataFrame* with mapped clusters in 'mapped_cluster' and corresponding f-measure in 'max_fmeasure' column\n",
    "* `fmeasure_aggregate`: *float*\n",
    "                    average f-measure as over-all performance metric\n",
    "* `true_dct`: *pd.DataFrame* with clusters which match exactly"
   ]
  },
  {
   "cell_type": "markdown",
   "metadata": {},
   "source": [
    "**Lets see how does the results from clustering incrementally and in one go using agglomerative clustering compare.**"
   ]
  },
  {
   "cell_type": "code",
   "execution_count": 8,
   "metadata": {},
   "outputs": [
    {
     "name": "stdout",
     "output_type": "stream",
     "text": [
      "threshold: 0.6, nfeatures: 400\n"
     ]
    },
    {
     "data": {
      "text/plain": [
       "(1113, 1167)"
      ]
     },
     "execution_count": 8,
     "metadata": {},
     "output_type": "execute_result"
    }
   ],
   "source": [
    "# combine incremental results (1st 5000, next 5000)\n",
    "out2.set_index('old_index', inplace=True)\n",
    "out_incremental = out.append(out2)\n",
    "# take all 10000 at once\n",
    "test_df = df[:10000]\n",
    "test_df = find_clusters(test_df, thresh1=0.6, nfeatures=400)\n",
    "# join both results\n",
    "res1 = test_df['class_prd']\n",
    "res1.name = 'class_gt'\n",
    "matched_df = pd.DataFrame(res1).join(out_incremental)\n",
    "len(res1.unique()), len(out_incremental['class_prd'].unique())"
   ]
  },
  {
   "cell_type": "code",
   "execution_count": 11,
   "metadata": {},
   "outputs": [
    {
     "data": {
      "text/plain": [
       "(0.7056323066709902, 245)"
      ]
     },
     "execution_count": 11,
     "metadata": {},
     "output_type": "execute_result"
    }
   ],
   "source": [
    "from clustering.compare_clusters import cluster_measure\n",
    "res_df, fmeasure_aggregate, true_matches = cluster_measure(matched_df, gt_column='class_gt')\n",
    "fmeasure_aggregate, len(true_matches)               # f-measure is 0.7, which should be 1 for perfect match and 0 for no match. len(true_matches) i.e. number of cluster matching perfectly is 245."
   ]
  }
 ],
 "metadata": {
  "interpreter": {
   "hash": "ae41d97583f14d59ca5803f3fe7c5027af9e27e6969556a178b2a13194b724ac"
  },
  "kernelspec": {
   "display_name": "Python 3.8.3 ('env': venv)",
   "language": "python",
   "name": "python3"
  },
  "language_info": {
   "codemirror_mode": {
    "name": "ipython",
    "version": 3
   },
   "file_extension": ".py",
   "mimetype": "text/x-python",
   "name": "python",
   "nbconvert_exporter": "python",
   "pygments_lexer": "ipython3",
   "version": "3.8.3"
  },
  "orig_nbformat": 4
 },
 "nbformat": 4,
 "nbformat_minor": 2
}
